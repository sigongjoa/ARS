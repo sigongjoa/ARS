{
 "cells": [
  {
   "cell_type": "code",
   "execution_count": 4,
   "id": "585b3a51",
   "metadata": {},
   "outputs": [
    {
     "name": "stdout",
     "output_type": "stream",
     "text": [
      " * Serving Flask app '__main__'\n",
      " * Debug mode: off\n"
     ]
    },
    {
     "name": "stderr",
     "output_type": "stream",
     "text": [
      "\u001b[31m\u001b[1mWARNING: This is a development server. Do not use it in a production deployment. Use a production WSGI server instead.\u001b[0m\n",
      " * Running on http://127.0.0.1:5001\n",
      "\u001b[33mPress CTRL+C to quit\u001b[0m\n"
     ]
    }
   ],
   "source": [
    "from flask import Flask, request, jsonify\n",
    "import threading\n",
    "\n",
    "app = Flask(__name__)\n",
    "\n",
    "@app.route('/your_route', methods=['POST'])  # replace 'your_route' with your desired route\n",
    "def receive_data():\n",
    "    # Check if a file was sent in the request\n",
    "    if 'file' in request.files:\n",
    "        file = request.files['file']\n",
    "\n",
    "        # Check if the file is not empty\n",
    "        if file.filename != '':\n",
    "            file.save('/path/to/save/image.jpg')  # replace with your desired path and filename\n",
    "\n",
    "    # You can return a response\n",
    "    return jsonify({'message': 'Image received and stored!'})\n",
    "\n",
    "# Run the Flask app in a separate thread\n",
    "def run_app():\n",
    "    app.run(port=5001)\n",
    "\n",
    "threading.Thread(target=run_app).start()\n"
   ]
  },
  {
   "cell_type": "code",
   "execution_count": null,
   "id": "4f300bb3",
   "metadata": {},
   "outputs": [],
   "source": []
  }
 ],
 "metadata": {
  "kernelspec": {
   "display_name": "Python 3 (ipykernel)",
   "language": "python",
   "name": "python3"
  },
  "language_info": {
   "codemirror_mode": {
    "name": "ipython",
    "version": 3
   },
   "file_extension": ".py",
   "mimetype": "text/x-python",
   "name": "python",
   "nbconvert_exporter": "python",
   "pygments_lexer": "ipython3",
   "version": "3.8.10"
  }
 },
 "nbformat": 4,
 "nbformat_minor": 5
}
