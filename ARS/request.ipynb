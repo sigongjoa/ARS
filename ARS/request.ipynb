{
 "cells": [
  {
   "cell_type": "code",
   "execution_count": 77,
   "id": "d3f22e99",
   "metadata": {},
   "outputs": [
    {
     "name": "stdout",
     "output_type": "stream",
     "text": [
      "Response status code: 200\n",
      "Response headers: {'Content-Length': '6', 'Content-Type': 'text/plain;charset=UTF-8', 'Date': 'Mon, 05 Jun 2023 13:33:27 GMT', 'Ngrok-Trace-Id': 'e94ac5356029230878afaa4933f3b07f'}\n",
      "Response body: 성공\n",
      "Could not parse response as JSON. Exception: Expecting value: line 1 column 1 (char 0)\n"
     ]
    }
   ],
   "source": [
    "import requests\n",
    "import os\n",
    "\n",
    "json_file = next(file for file in os.listdir('./result') if file.endswith('.json'))\n",
    "file_path = os.path.join('./result', json_file)\n",
    "\n",
    "with open(file_path, 'rb') as f:\n",
    "    string_param = 'example string5'\n",
    "    files = {'file': f }\n",
    "    data = {'userid': string_param}\n",
    "\n",
    "    response = requests.post('https://190b-125-137-22-250.ngrok-free.app/upload', data=data, files=files)\n",
    "\n",
    "print('Response status code:', response.status_code)\n",
    "\n",
    "# Print more detailed response information\n",
    "print('Response headers:', response.headers)\n",
    "print('Response body:', response.text)\n",
    "\n",
    "# If the response is in JSON format, you can use response.json() to parse it\n",
    "try:\n",
    "    print('Parsed JSON response:', response.json())\n",
    "except Exception as e:\n",
    "    print('Could not parse response as JSON. Exception:', str(e))\n"
   ]
  },
  {
   "cell_type": "code",
   "execution_count": 64,
   "id": "57deb4ac",
   "metadata": {},
   "outputs": [
    {
     "data": {
      "text/plain": [
       "{'file': <_io.BufferedReader name='./result/1234.jpg_recommendations.json'>,\n",
       " 'userid': 'example string'}"
      ]
     },
     "execution_count": 64,
     "metadata": {},
     "output_type": "execute_result"
    }
   ],
   "source": [
    "file_name = 'zeskywa499@gmail.com_1234.jpg'\n"
   ]
  },
  {
   "cell_type": "code",
   "execution_count": 62,
   "id": "fe77c9d3",
   "metadata": {},
   "outputs": [
    {
     "name": "stdout",
     "output_type": "stream",
     "text": [
      "Response status code: 500\n",
      "Response headers: {'Content-Type': 'application/json', 'Date': 'Mon, 05 Jun 2023 13:29:57 GMT', 'Ngrok-Trace-Id': 'dcae6dd851e64f50531bc100b5d4c386', 'Transfer-Encoding': 'chunked'}\n",
      "Response body: {\"timestamp\":\"2023-06-05T13:29:57.705+00:00\",\"status\":500,\"error\":\"Internal Server Error\",\"path\":\"/upload\"}\n",
      "Parsed JSON response: {'timestamp': '2023-06-05T13:29:57.705+00:00', 'status': 500, 'error': 'Internal Server Error', 'path': '/upload'}\n"
     ]
    }
   ],
   "source": [
    "import requests\n",
    "import os\n",
    "import json\n",
    "\n",
    "json_file = next(file for file in os.listdir('./result') if file.endswith('.json'))\n",
    "file_path = os.path.join('./result', json_file)\n",
    "\n",
    "with open(file_path, 'r') as f:\n",
    "    file_data = json.load(f)\n",
    "\n",
    "string_param = 'example string'\n",
    "data = {'userid': string_param, 'file': file_data}\n",
    "\n",
    "response = requests.post('https://190b-125-137-22-250.ngrok-free.app/upload', json=data)\n",
    "\n",
    "print('Response status code:', response.status_code)\n",
    "\n",
    "# Print more detailed response information\n",
    "print('Response headers:', response.headers)\n",
    "print('Response body:', response.text)\n",
    "\n",
    "# If the response is in JSON format, you can use response.json() to parse it\n",
    "try:\n",
    "    print('Parsed JSON response:', response.json())\n",
    "except Exception as e:\n",
    "    print('Could not parse response as JSON. Exception:', str(e))\n"
   ]
  }
 ],
 "metadata": {
  "kernelspec": {
   "display_name": "Python 3 (ipykernel)",
   "language": "python",
   "name": "python3"
  },
  "language_info": {
   "codemirror_mode": {
    "name": "ipython",
    "version": 3
   },
   "file_extension": ".py",
   "mimetype": "text/x-python",
   "name": "python",
   "nbconvert_exporter": "python",
   "pygments_lexer": "ipython3",
   "version": "3.8.10"
  }
 },
 "nbformat": 4,
 "nbformat_minor": 5
}
